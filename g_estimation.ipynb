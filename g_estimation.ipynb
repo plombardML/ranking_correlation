{
 "cells": [
  {
   "cell_type": "code",
   "execution_count": 1,
   "id": "66c7d0d6-a9b1-43ac-920e-25a4c9cbe23b",
   "metadata": {},
   "outputs": [],
   "source": [
    "from copy import deepcopy\n",
    "import gc\n",
    "from itertools import permutations\n",
    "import json\n",
    "import math\n",
    "import numpy as np\n"
   ]
  },
  {
   "cell_type": "markdown",
   "id": "1a1d8d48-c3be-468d-9bdc-3c1c28f9de89",
   "metadata": {},
   "source": [
    "## Numerical Sampling"
   ]
  },
  {
   "cell_type": "code",
   "execution_count": 2,
   "id": "83992ef3-71f4-491c-8f84-637f69038a74",
   "metadata": {},
   "outputs": [],
   "source": [
    "from g_estimation_utils import looper, regressor_final, opt_dec_dic_fill\n",
    "from params import max_ratio1, max_ratio2\n",
    "from ranking_coeff_params import wtype_to_n_0_list"
   ]
  },
  {
   "cell_type": "code",
   "execution_count": 3,
   "id": "fe8cc752-a5dc-4e65-b06f-db765928d355",
   "metadata": {},
   "outputs": [],
   "source": [
    "# gamma_dic_dic = {}\n",
    "# for coeff_type in ['spearman', 'kendall']:\n",
    "#     gamma_dic_dic[coeff_type] = {}\n",
    "#     for weighting_scheme in ['add', 'mult']:\n",
    "#         print(f'\\n\\t{coeff_type} - {weighting_scheme}', end='')\n",
    "#         gamma_dic_dic[coeff_type][weighting_scheme] = {}\n",
    "#         for wtype in ['1', '2']:\n",
    "#             np.random.seed(0)\n",
    "#             gamma_dic_dic[coeff_type][weighting_scheme][wtype] = {}\n",
    "#             gamma_dic_exact = {}\n",
    "#             gamma_dic = {}\n",
    "#             gamma_err_dic = {}\n",
    "#             for n_0 in wtype_to_n_0_list[wtype]:\n",
    "#                 print(f'\\nwtype: {wtype}, n_0: {n_0}', end='\\n')\n",
    "#                 gamma_dic_exact[n_0], gamma_dic[n_0], gamma_err_dic[n_0], _, _ = looper(n_0=n_0, coeff_type=coeff_type, weight_type=wtype, weighting_scheme=weighting_scheme, is_round_1=True)\n",
    "\n",
    "#             gamma_dic_dic[coeff_type][weighting_scheme][wtype]['gamma_dic_exact'] = gamma_dic_exact\n",
    "#             gamma_dic_dic[coeff_type][weighting_scheme][wtype]['gamma_dic'] = gamma_dic\n",
    "#             gamma_dic_dic[coeff_type][weighting_scheme][wtype]['gamma_err_dic'] = gamma_err_dic\n",
    "#             # print(f\" gamma_dic_dic[\\'{coeff_type}\\'][\\'{weighting_scheme}\\'][\\'{wtype}\\']['gamma_dic_exact'] =\", gamma_dic_exact)\n",
    "#             # print(f\" gamma_dic_dic[\\'{coeff_type}\\'][\\'{weighting_scheme}\\'][\\'{wtype}\\']['gamma_dic'] =\", gamma_dic)\n",
    "#             # print(f\" gamma_dic_dic[\\'{coeff_type}\\'][\\'{weighting_scheme}\\'][\\'{wtype}\\']['gamma_err_dic'] =\", gamma_err_dic)\n",
    "\n",
    "# READ parameters\n",
    "with open('estimation_results/gamma_dic_dic.json', 'r', encoding ='utf8') as json_file:\n",
    "    gamma_dic_dic = json.load(json_file)\n"
   ]
  },
  {
   "cell_type": "code",
   "execution_count": 4,
   "id": "d40a8f23-93dc-42fd-af68-00e9de1c587d",
   "metadata": {},
   "outputs": [],
   "source": [
    "init_opt_deg_dic_base = {\n",
    "        'add': {\n",
    "            '1': {},\n",
    "            '2': {}},            \n",
    "        'mult': {\n",
    "            '1': {},\n",
    "            '2': {}}}\n",
    "init_opt_deg_dic = {'spearman': deepcopy(init_opt_deg_dic_base), 'kendall': deepcopy(init_opt_deg_dic_base)}\n",
    "opt_deg_dic = {'gamma': deepcopy(init_opt_deg_dic),  'V': deepcopy(init_opt_deg_dic), 'V_left': deepcopy(init_opt_deg_dic)}\n",
    "\n",
    "opt_deg_dic = opt_dec_dic_fill(opt_deg_dic=opt_deg_dic, dic_dic=gamma_dic_dic, max_deg=7, y_type='gamma')"
   ]
  },
  {
   "cell_type": "code",
   "execution_count": 5,
   "id": "c7e6477b-37e7-4820-b60b-9a19f3504879",
   "metadata": {},
   "outputs": [],
   "source": [
    "pars_dic_dic = {}\n",
    "for y_type in ['gamma']:\n",
    "    pars_dic_dic[y_type] = {}\n",
    "    for coeff_type in ['spearman', 'kendall']:\n",
    "        pars_dic_dic[y_type][coeff_type] = {}\n",
    "        for weighting_scheme in ['add', 'mult']:\n",
    "            pars_dic_dic[y_type][coeff_type][weighting_scheme] = {}\n",
    "            for wtype in ['1', '2']:\n",
    "                pars_dic_dic[y_type][coeff_type][weighting_scheme][wtype] = {}\n",
    "                for n_0 in wtype_to_n_0_list[wtype]:\n",
    "                    n_0 = str(n_0)\n",
    "                    pars_dic_dic[y_type][coeff_type][weighting_scheme][wtype][n_0] = regressor_final(dic_dic=gamma_dic_dic, opt_deg_dic=opt_deg_dic, coeff_type=coeff_type,\n",
    "                                                                                                     weighting_scheme=weighting_scheme, wtype=wtype, n_0=n_0, y_type='gamma')\n"
   ]
  },
  {
   "cell_type": "markdown",
   "id": "62a64a02-2a80-4467-ab4f-943d6ab58b46",
   "metadata": {},
   "source": [
    "#  V and V_left"
   ]
  },
  {
   "cell_type": "code",
   "execution_count": 6,
   "id": "3db6ca1b-fe25-4740-8734-1f455c4b9d3e",
   "metadata": {},
   "outputs": [],
   "source": [
    "# V_dic_dic = {}\n",
    "# for coeff_type in ['spearman', 'kendall']:\n",
    "#     V_dic_dic[coeff_type] = {}\n",
    "#     for weighting_scheme in ['add', 'mult']:\n",
    "#         print(f'\\n\\t{coeff_type} - {weighting_scheme}', end='')\n",
    "#         V_dic_dic[coeff_type][weighting_scheme] = {}\n",
    "#         for wtype in ['1', '2']:\n",
    "#             np.random.seed(0)\n",
    "#             V_dic_dic[coeff_type][weighting_scheme][wtype] = {}\n",
    "#             V_dic_exact = {}\n",
    "#             V_dic = {}\n",
    "#             V_left_dic_exact = {}\n",
    "#             V_left_dic = {}\n",
    "#             for n_0 in wtype_to_n_0_list[wtype]:\n",
    "#                 print(f'\\nwtype: {wtype}, n_0: {n_0}', end='\\n')\n",
    "#                 _, _, _, V_dic_exact[n_0], V_left_dic_exact[n_0], V_dic[n_0], V_left_dic[n_0] = looper(n_0=n_0, coeff_type=coeff_type, weight_type=wtype,\n",
    "#                                                                                                        weighting_scheme=weighting_scheme, is_round_1=False, pars_dic_dic=pars_dic_dic)\n",
    "#             V_dic_dic[coeff_type][weighting_scheme][wtype]['V_dic_exact'] = V_dic_exact\n",
    "#             V_dic_dic[coeff_type][weighting_scheme][wtype]['V_dic'] = V_dic\n",
    "#             V_dic_dic[coeff_type][weighting_scheme][wtype]['V_left_dic_exact'] = V_left_dic_exact\n",
    "#             V_dic_dic[coeff_type][weighting_scheme][wtype]['V_left_dic'] = V_left_dic\n",
    "#             # print(f\" V_dic_dic[\\'{coeff_type}\\'][\\'{weighting_scheme}\\'][\\'{wtype}\\']['V_dic_exact'] =\", V_dic_exact)\n",
    "#             # print(f\" V_dic_dic[\\'{coeff_type}\\'][\\'{weighting_scheme}\\'][\\'{wtype}\\']['V_dic'] =\", V_dic)\n",
    "#             # print(f\" V_dic_dic[\\'{coeff_type}\\'][\\'{weighting_scheme}\\'][\\'{wtype}\\']['V_left_dic_exact'] =\", V_left_dic_exact)\n",
    "#             # print(f\" V_dic_dic[\\'{coeff_type}\\'][\\'{weighting_scheme}\\'][\\'{wtype}\\']['V_left_dic'] =\", V_left_dic)\n",
    "\n",
    "\n",
    "\n",
    "# READ parameters\n",
    "with open('estimation_results/V_dic_dic.json', 'r', encoding ='utf8') as json_file:\n",
    "    V_dic_dic = json.load(json_file)\n"
   ]
  },
  {
   "cell_type": "code",
   "execution_count": 7,
   "id": "d27e0b91-1579-492d-842a-cc8018d6f752",
   "metadata": {},
   "outputs": [],
   "source": [
    "opt_deg_dic = opt_dec_dic_fill(opt_deg_dic=opt_deg_dic, dic_dic=V_dic_dic, max_deg=7, y_type='V')\n",
    "opt_deg_dic = opt_dec_dic_fill(opt_deg_dic=opt_deg_dic, dic_dic=V_dic_dic, max_deg=7, y_type='V_left')"
   ]
  },
  {
   "cell_type": "code",
   "execution_count": 8,
   "id": "963e5318-cf96-47a4-813b-6abc68ce2918",
   "metadata": {},
   "outputs": [],
   "source": [
    "for y_type in ['V', 'V_left']:\n",
    "    pars_dic_dic[y_type] = {}\n",
    "    for coeff_type in ['spearman', 'kendall']:\n",
    "        pars_dic_dic[y_type][coeff_type] = {}\n",
    "        for weighting_scheme in ['add', 'mult']:\n",
    "            pars_dic_dic[y_type][coeff_type][weighting_scheme] = {}\n",
    "            for wtype in ['1', '2']:\n",
    "                pars_dic_dic[y_type][coeff_type][weighting_scheme][wtype] = {}\n",
    "                for n_0 in wtype_to_n_0_list[wtype]:\n",
    "                    n_0 = str(n_0)             \n",
    "                    pars_dic_dic[y_type][coeff_type][weighting_scheme][wtype][n_0] = regressor_final(dic_dic=V_dic_dic, opt_deg_dic=opt_deg_dic, coeff_type=coeff_type,\n",
    "                                                                                                     weighting_scheme=weighting_scheme, wtype=wtype, n_0=n_0, y_type=y_type)\n"
   ]
  }
 ],
 "metadata": {
  "kernelspec": {
   "display_name": "base-env",
   "language": "python",
   "name": "base-env"
  },
  "language_info": {
   "codemirror_mode": {
    "name": "ipython",
    "version": 3
   },
   "file_extension": ".py",
   "mimetype": "text/x-python",
   "name": "python",
   "nbconvert_exporter": "python",
   "pygments_lexer": "ipython3",
   "version": "3.10.12"
  }
 },
 "nbformat": 4,
 "nbformat_minor": 5
}
