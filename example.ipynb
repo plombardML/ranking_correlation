{
 "cells": [
  {
   "cell_type": "code",
   "execution_count": 1,
   "id": "59ec902b-bfef-49ea-8353-1cd517139b19",
   "metadata": {},
   "outputs": [
    {
     "data": {
      "text/plain": [
       "{'standard_gamma': -0.6610846625816234,\n",
       " 'gamma': -0.8689541073387552,\n",
       " 'gamma_avg': -0.4642214642725911,\n",
       " 'V': 0.04946575922011926,\n",
       " 'V_left': 0.019859113057352943}"
      ]
     },
     "execution_count": 1,
     "metadata": {},
     "output_type": "execute_result"
    }
   ],
   "source": [
    "import numpy as np\n",
    "from ranking_coefficients import standard_gamma_calc\n",
    "\n",
    "aa = list(range(50))\n",
    "bb = np.random.permutation(aa)\n",
    "\n",
    "standard_gamma_calc(coeff_type='spearman', weighting_scheme='add', wtype=2, aa=aa, bb=bb, n_0=1)"
   ]
  },
  {
   "cell_type": "code",
   "execution_count": 3,
   "id": "37495df3-10b4-47b6-af06-bb0dca0d0185",
   "metadata": {},
   "outputs": [
    {
     "data": {
      "text/plain": [
       "{'standard_gamma': -1.0,\n",
       " 'gamma': -1.0000000000000022,\n",
       " 'gamma_avg': -0.03027621258524162,\n",
       " 'V': 0.5113228395536834,\n",
       " 'V_left': 0.24415735524199234}"
      ]
     },
     "execution_count": 3,
     "metadata": {},
     "output_type": "execute_result"
    }
   ],
   "source": [
    "standard_gamma_calc( coeff_type='spearman', weighting_scheme='add', wtype=2, aa=[1, 2, 3],  bb=[3, 2, 1], n_0=2 )"
   ]
  }
 ],
 "metadata": {
  "kernelspec": {
   "display_name": "base-env",
   "language": "python",
   "name": "base-env"
  },
  "language_info": {
   "codemirror_mode": {
    "name": "ipython",
    "version": 3
   },
   "file_extension": ".py",
   "mimetype": "text/x-python",
   "name": "python",
   "nbconvert_exporter": "python",
   "pygments_lexer": "ipython3",
   "version": "3.10.12"
  }
 },
 "nbformat": 4,
 "nbformat_minor": 5
}
